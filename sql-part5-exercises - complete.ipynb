{
    "metadata": {
        "kernelspec": {
            "name": "SQL",
            "display_name": "SQL",
            "language": "sql"
        },
        "language_info": {
            "name": "sql",
            "version": ""
        }
    },
    "nbformat_minor": 2,
    "nbformat": 4,
    "cells": [
        {
            "cell_type": "markdown",
            "source": [
                "# Exercises: Creating, Updating, and Destroying Objects\n",
                "\n",
                "For the exercises, you will be working with objects and data you create. Before opening this notebook, make sure that you have set up the new connection to the server and that you have located the database and your schema.\n",
                "\n",
                "## Object Creation\n",
                "\n",
                "Before coding, think of three things you want to make. These could be coding projects, new recipes, or planned projects for a woodworking hobby. Brainstorm the appropriate column names and data types as well.\n",
                "\n",
                "Create a table under your schema called `planned_makes`."
            ],
            "metadata": {
                "azdata_cell_guid": "9d51c166-0c19-4f27-a422-2a6cf596bfb2"
            },
            "attachments": {}
        },
        {
            "cell_type": "code",
            "source": [
                "CREATE TABLE rebeccam.planned_makes (\r\n",
                "    project_id INT PRIMARY KEY IDENTITY (1, 1),\r\n",
                "    project_name VARCHAR (20) NOT NULL,\r\n",
                "    project_room VARCHAR (20) NOT NULL,\r\n",
                "    category VARCHAR (20) NOT NULL,\r\n",
                "    begin_date DATETIME,\r\n",
                "    end_date DATETIME\r\n",
                ")"
            ],
            "metadata": {
                "azdata_cell_guid": "d9238911-6f81-4f01-980d-b584307effaf",
                "language": "sql"
            },
            "outputs": [
                {
                    "output_type": "display_data",
                    "data": {
                        "text/html": "Commands completed successfully."
                    },
                    "metadata": {}
                },
                {
                    "output_type": "display_data",
                    "data": {
                        "text/html": "Total execution time: 00:00:00.031"
                    },
                    "metadata": {}
                }
            ],
            "execution_count": 24
        },
        {
            "cell_type": "markdown",
            "source": [
                "Add three rows to your table that are your planned makes."
            ],
            "metadata": {
                "azdata_cell_guid": "83cdf34d-8c4f-4fa1-a14e-77384b19d734"
            }
        },
        {
            "cell_type": "code",
            "source": [
                "INSERT INTO rebeccam.planned_makes (project_name, project_room, category, begin_date)\r\n",
                "VALUES ('paint the office', 'office', 'paint', '20230114'), ('change the outlets', 'interior', 'electrical', '20220115'), ('clean the gutters', 'exterior', 'yard maintenance', '20230114');"
            ],
            "metadata": {
                "azdata_cell_guid": "e7cff9cb-87ba-4c7b-98f2-eaf445e8719c",
                "language": "sql",
                "tags": []
            },
            "outputs": [
                {
                    "output_type": "display_data",
                    "data": {
                        "text/html": "(3 rows affected)"
                    },
                    "metadata": {}
                },
                {
                    "output_type": "display_data",
                    "data": {
                        "text/html": "Total execution time: 00:00:00.034"
                    },
                    "metadata": {}
                }
            ],
            "execution_count": 25
        },
        {
            "cell_type": "code",
            "source": [
                "SELECT *\r\n",
                "FROM rebeccam.planned_makes"
            ],
            "metadata": {
                "language": "sql",
                "azdata_cell_guid": "29dbc688-9e6f-4e8c-9150-bacde7934714"
            },
            "outputs": [
                {
                    "output_type": "display_data",
                    "data": {
                        "text/html": "(3 rows affected)"
                    },
                    "metadata": {}
                },
                {
                    "output_type": "display_data",
                    "data": {
                        "text/html": "Total execution time: 00:00:00.040"
                    },
                    "metadata": {}
                },
                {
                    "output_type": "execute_result",
                    "metadata": {},
                    "execution_count": 26,
                    "data": {
                        "application/vnd.dataresource+json": {
                            "schema": {
                                "fields": [
                                    {
                                        "name": "project_id"
                                    },
                                    {
                                        "name": "project_name"
                                    },
                                    {
                                        "name": "project_room"
                                    },
                                    {
                                        "name": "category"
                                    },
                                    {
                                        "name": "begin_date"
                                    },
                                    {
                                        "name": "end_date"
                                    }
                                ]
                            },
                            "data": [
                                {
                                    "0": "1",
                                    "1": "paint the office",
                                    "2": "office",
                                    "3": "paint",
                                    "4": "2023-01-14 00:00:00.000",
                                    "5": "NULL"
                                },
                                {
                                    "0": "2",
                                    "1": "change the outlets",
                                    "2": "interior",
                                    "3": "electrical",
                                    "4": "2022-01-15 00:00:00.000",
                                    "5": "NULL"
                                },
                                {
                                    "0": "3",
                                    "1": "clean the gutters",
                                    "2": "exterior",
                                    "3": "yard maintenance",
                                    "4": "2023-01-14 00:00:00.000",
                                    "5": "NULL"
                                }
                            ]
                        },
                        "text/html": [
                            "<table>",
                            "<tr><th>project_id</th><th>project_name</th><th>project_room</th><th>category</th><th>begin_date</th><th>end_date</th></tr>",
                            "<tr><td>1</td><td>paint the office</td><td>office</td><td>paint</td><td>2023-01-14 00:00:00.000</td><td>NULL</td></tr>",
                            "<tr><td>2</td><td>change the outlets</td><td>interior</td><td>electrical</td><td>2022-01-15 00:00:00.000</td><td>NULL</td></tr>",
                            "<tr><td>3</td><td>clean the gutters</td><td>exterior</td><td>yard maintenance</td><td>2023-01-14 00:00:00.000</td><td>NULL</td></tr>",
                            "</table>"
                        ]
                    }
                }
            ],
            "execution_count": 26
        },
        {
            "cell_type": "markdown",
            "source": [
                "## Update a Row\n",
                "\n",
                "Change different values in one of your three rows."
            ],
            "metadata": {
                "azdata_cell_guid": "4a39b8d4-ae97-4e09-8336-c5fc6a00d76c"
            },
            "attachments": {}
        },
        {
            "cell_type": "code",
            "source": [
                "UPDATE rebeccam.planned_makes\r\n",
                "SET begin_date = '20230115'\r\n",
                "WHERE project_name = 'change the outlets'"
            ],
            "metadata": {
                "azdata_cell_guid": "7409c695-9581-4ad8-b03a-574d2c4c87cb",
                "language": "sql"
            },
            "outputs": [
                {
                    "output_type": "display_data",
                    "data": {
                        "text/html": "(1 row affected)"
                    },
                    "metadata": {}
                },
                {
                    "output_type": "display_data",
                    "data": {
                        "text/html": "Total execution time: 00:00:00.034"
                    },
                    "metadata": {}
                }
            ],
            "execution_count": 27
        },
        {
            "cell_type": "code",
            "source": [
                "SELECT *\r\n",
                "FROM rebeccam.planned_makes"
            ],
            "metadata": {
                "language": "sql",
                "azdata_cell_guid": "007d06cc-2a80-4ec8-a8c5-33d64944b6d8"
            },
            "outputs": [
                {
                    "output_type": "display_data",
                    "data": {
                        "text/html": "(3 rows affected)"
                    },
                    "metadata": {}
                },
                {
                    "output_type": "display_data",
                    "data": {
                        "text/html": "Total execution time: 00:00:00.036"
                    },
                    "metadata": {}
                },
                {
                    "output_type": "execute_result",
                    "metadata": {},
                    "execution_count": 28,
                    "data": {
                        "application/vnd.dataresource+json": {
                            "schema": {
                                "fields": [
                                    {
                                        "name": "project_id"
                                    },
                                    {
                                        "name": "project_name"
                                    },
                                    {
                                        "name": "project_room"
                                    },
                                    {
                                        "name": "category"
                                    },
                                    {
                                        "name": "begin_date"
                                    },
                                    {
                                        "name": "end_date"
                                    }
                                ]
                            },
                            "data": [
                                {
                                    "0": "1",
                                    "1": "paint the office",
                                    "2": "office",
                                    "3": "paint",
                                    "4": "2023-01-14 00:00:00.000",
                                    "5": "NULL"
                                },
                                {
                                    "0": "2",
                                    "1": "change the outlets",
                                    "2": "interior",
                                    "3": "electrical",
                                    "4": "2023-01-15 00:00:00.000",
                                    "5": "NULL"
                                },
                                {
                                    "0": "3",
                                    "1": "clean the gutters",
                                    "2": "exterior",
                                    "3": "yard maintenance",
                                    "4": "2023-01-14 00:00:00.000",
                                    "5": "NULL"
                                }
                            ]
                        },
                        "text/html": [
                            "<table>",
                            "<tr><th>project_id</th><th>project_name</th><th>project_room</th><th>category</th><th>begin_date</th><th>end_date</th></tr>",
                            "<tr><td>1</td><td>paint the office</td><td>office</td><td>paint</td><td>2023-01-14 00:00:00.000</td><td>NULL</td></tr>",
                            "<tr><td>2</td><td>change the outlets</td><td>interior</td><td>electrical</td><td>2023-01-15 00:00:00.000</td><td>NULL</td></tr>",
                            "<tr><td>3</td><td>clean the gutters</td><td>exterior</td><td>yard maintenance</td><td>2023-01-14 00:00:00.000</td><td>NULL</td></tr>",
                            "</table>"
                        ]
                    }
                }
            ],
            "execution_count": 28
        },
        {
            "cell_type": "markdown",
            "source": [
                "## Delete a Row\n",
                "\n",
                "Delete one of the rows from your table."
            ],
            "metadata": {
                "azdata_cell_guid": "95e91a6e-9038-42d9-9401-5738842aba17"
            }
        },
        {
            "cell_type": "code",
            "source": [
                "DELETE FROM rebeccam.planned_makes\r\n",
                "WHERE category = 'yard maintenance'"
            ],
            "metadata": {
                "azdata_cell_guid": "749c748f-19b5-4c69-9004-b6b20216616a",
                "language": "sql"
            },
            "outputs": [
                {
                    "output_type": "display_data",
                    "data": {
                        "text/html": "(1 row affected)"
                    },
                    "metadata": {}
                },
                {
                    "output_type": "display_data",
                    "data": {
                        "text/html": "Total execution time: 00:00:00.030"
                    },
                    "metadata": {}
                }
            ],
            "execution_count": 30
        },
        {
            "cell_type": "code",
            "source": [
                "SELECT *\r\n",
                "FROM rebeccam.planned_makes"
            ],
            "metadata": {
                "language": "sql",
                "azdata_cell_guid": "0f28ac9e-5146-4789-a893-de13f8604903"
            },
            "outputs": [
                {
                    "output_type": "display_data",
                    "data": {
                        "text/html": "(2 rows affected)"
                    },
                    "metadata": {}
                },
                {
                    "output_type": "display_data",
                    "data": {
                        "text/html": "Total execution time: 00:00:00.035"
                    },
                    "metadata": {}
                },
                {
                    "output_type": "execute_result",
                    "metadata": {},
                    "execution_count": 31,
                    "data": {
                        "application/vnd.dataresource+json": {
                            "schema": {
                                "fields": [
                                    {
                                        "name": "project_id"
                                    },
                                    {
                                        "name": "project_name"
                                    },
                                    {
                                        "name": "project_room"
                                    },
                                    {
                                        "name": "category"
                                    },
                                    {
                                        "name": "begin_date"
                                    },
                                    {
                                        "name": "end_date"
                                    }
                                ]
                            },
                            "data": [
                                {
                                    "0": "1",
                                    "1": "paint the office",
                                    "2": "office",
                                    "3": "paint",
                                    "4": "2023-01-14 00:00:00.000",
                                    "5": "NULL"
                                },
                                {
                                    "0": "2",
                                    "1": "change the outlets",
                                    "2": "interior",
                                    "3": "electrical",
                                    "4": "2023-01-15 00:00:00.000",
                                    "5": "NULL"
                                }
                            ]
                        },
                        "text/html": [
                            "<table>",
                            "<tr><th>project_id</th><th>project_name</th><th>project_room</th><th>category</th><th>begin_date</th><th>end_date</th></tr>",
                            "<tr><td>1</td><td>paint the office</td><td>office</td><td>paint</td><td>2023-01-14 00:00:00.000</td><td>NULL</td></tr>",
                            "<tr><td>2</td><td>change the outlets</td><td>interior</td><td>electrical</td><td>2023-01-15 00:00:00.000</td><td>NULL</td></tr>",
                            "</table>"
                        ]
                    }
                }
            ],
            "execution_count": 31
        },
        {
            "cell_type": "markdown",
            "source": [
                "## Drop the Table\n",
                "\n",
                "While this has been fun, it is time to drop the table!"
            ],
            "metadata": {
                "azdata_cell_guid": "2239cb09-137b-4579-905b-1aa020793181"
            },
            "attachments": {}
        },
        {
            "cell_type": "code",
            "source": [
                "DROP TABLE rebeccam.planned_makes"
            ],
            "metadata": {
                "azdata_cell_guid": "b3c7f6ea-ee26-46b3-9c2a-2f7a82c39699",
                "language": "sql"
            },
            "outputs": [
                {
                    "output_type": "display_data",
                    "data": {
                        "text/html": "Commands completed successfully."
                    },
                    "metadata": {}
                },
                {
                    "output_type": "display_data",
                    "data": {
                        "text/html": "Total execution time: 00:00:00.042"
                    },
                    "metadata": {}
                }
            ],
            "execution_count": 32
        },
        {
            "cell_type": "code",
            "source": [
                "SELECT *\r\n",
                "FROM rebeccam.planned_makes"
            ],
            "metadata": {
                "language": "sql",
                "azdata_cell_guid": "6f9583c9-d43a-4941-a9a2-1d73e07f0dc9"
            },
            "outputs": [
                {
                    "output_type": "error",
                    "evalue": "Msg 208, Level 16, State 1, Line 1\r\nInvalid object name 'rebeccam.planned_makes'.",
                    "ename": "",
                    "traceback": []
                },
                {
                    "output_type": "display_data",
                    "data": {
                        "text/html": "Total execution time: 00:00:00.029"
                    },
                    "metadata": {}
                }
            ],
            "execution_count": 33
        }
    ]
}